{
  "nbformat": 4,
  "nbformat_minor": 0,
  "metadata": {
    "colab": {
      "name": "Untitled0.ipynb",
      "provenance": [],
      "authorship_tag": "ABX9TyOpk87ZvVG8xuT2A2Fuqxqd",
      "include_colab_link": true
    },
    "kernelspec": {
      "name": "python3",
      "display_name": "Python 3"
    }
  },
  "cells": [
    {
      "cell_type": "markdown",
      "metadata": {
        "id": "view-in-github",
        "colab_type": "text"
      },
      "source": [
        "<a href=\"https://colab.research.google.com/github/ga96jul/ML_COMM_Project/blob/master/EM_Task3.ipynb\" target=\"_parent\"><img src=\"https://colab.research.google.com/assets/colab-badge.svg\" alt=\"Open In Colab\"/></a>"
      ]
    },
    {
      "cell_type": "code",
      "metadata": {
        "id": "TCjwDswsFYN9",
        "colab_type": "code",
        "colab": {}
      },
      "source": [
        "import numpy as np\n",
        "import scipy.stats\n",
        "import matplotlib.pyplot as plt\n",
        "\n",
        "\n",
        "\n",
        "\n"
      ],
      "execution_count": 0,
      "outputs": []
    },
    {
      "cell_type": "code",
      "metadata": {
        "id": "1YaH6vqgFOLD",
        "colab_type": "code",
        "colab": {}
      },
      "source": [
        "def ask_cstll(M):\n",
        "    # returns an M-QAM constellation as an\n",
        "    # array of dimension Mx1\n",
        "    \n",
        "    X = np.arange(-M+1,M,2,dtype=int)\n",
        "    \n",
        "    X = X.reshape((1,X.size))\n",
        "    X = X/np.sqrt(np.mean(X**2))\n",
        "    \n",
        "    return X\n",
        "\n",
        "def qam_cstll(M):\n",
        "    # returns an M-QAM constellation as an\n",
        "    # array of dimension Mx1\n",
        "    \n",
        "    M_ask = int(np.sqrt(M))\n",
        "    tmp = ask_cstll(M_ask).reshape((M_ask,1))\n",
        "   \n",
        "    tmp = tmp + 1j*tmp.T\n",
        "    X = tmp.flatten()\n",
        "    X = X/np.sqrt(np.mean(np.abs(X)**2))\n",
        "    \n",
        "    return X"
      ],
      "execution_count": 0,
      "outputs": []
    },
    {
      "cell_type": "code",
      "metadata": {
        "id": "2_sGLJurF50A",
        "colab_type": "code",
        "outputId": "6d58f50c-c052-4af5-b4cf-7c2bb727d282",
        "colab": {
          "base_uri": "https://localhost:8080/",
          "height": 187
        }
      },
      "source": [
        "data = np.load('EM_data.npy')\n",
        "\n",
        "M = 16\n",
        "N = data.size\n",
        "C0 = 0\n",
        "#C0 = np.random.randint(-7, 7, M) + 1j * np.random.randint(-7,7, M)\n",
        "cnt_iter = 0\n",
        "\n",
        "iter = 10000\n",
        "\n",
        "\n",
        "\n",
        "# create M-QAM constellation\n",
        "#C0 = np.array([1+1j,1-1j,1+3j,1+5j,1+7j,1-3j,1-5j,1-7j,-1+1j,-1+3j,-1+5j,-1+7j,-1-1j,-1-3j,-1-5j,-1-7j,3+1j,3+3j,3+5j,3+7j,3-1j,3-3j,3-5j,3-7j,5+1j,5+3j,5+5j,5+7j,5-1j,5-3j,5-5j,5-7j,7+1j,7+3j,7+5j,7+7j,7-1j,7-3j,7-5j,7-7j,-3+1j,-3+3j,-3+5j,-3+7j,-3-1j,-3-3j,-3-5j,-3-7j,-5+1j,-5+3j,-5+5j,-5+7j,-5-1j,-5-3j,-5-5j,-5-7j,-7+1j,-7+3j,-7+5j,-7+7j,-7-1j,-7-3j,-7-5j,-7-7j])    \n",
        "\n",
        "C0 = 7 * qam_cstll(M)\n",
        "QAM_64 = C0\n",
        "K = C0.size\n",
        "C = C0\n",
        "while cnt_iter < iter:\n",
        "    tmp = np.abs(data.reshape((N,1)) - C.reshape((1,K)))\n",
        "    tmp_idx = np.argmin(tmp,axis=1)\n",
        "\n",
        "    for j in range(K):\n",
        "        idx = (tmp_idx == j)\n",
        "        # check here: do we assign at least one point? if not, keep the old center\n",
        "        if np.sum(idx) > 0:\n",
        "            C[j] = np.sum(data[idx])/np.sum(idx)\n",
        "    cnt_iter = cnt_iter + 1\n",
        "    if cnt_iter%1000 == 0:\n",
        "        progress = cnt_iter/iter * 100\n",
        "        print(\"Progress:\",progress)\n",
        "\n",
        "\n"
      ],
      "execution_count": 0,
      "outputs": [
        {
          "output_type": "stream",
          "text": [
            "Progress: 10.0\n",
            "Progress: 20.0\n",
            "Progress: 30.0\n",
            "Progress: 40.0\n",
            "Progress: 50.0\n",
            "Progress: 60.0\n",
            "Progress: 70.0\n",
            "Progress: 80.0\n",
            "Progress: 90.0\n",
            "Progress: 100.0\n"
          ],
          "name": "stdout"
        }
      ]
    },
    {
      "cell_type": "code",
      "metadata": {
        "id": "CUebcgSfGVqJ",
        "colab_type": "code",
        "outputId": "f4a1abad-c4bb-40af-f745-27caccbfbc6b",
        "colab": {
          "base_uri": "https://localhost:8080/",
          "height": 269
        }
      },
      "source": [
        "#plt.scatter(data.real,data.imag)\n",
        "K = 5*qam_cstll(M)\n",
        "plt.scatter(K.real,K.imag, color = \"green\")\n",
        "#plt.scatter(QAM_64.real,QAM_64.imag, color = \"green\")\n",
        "plt.scatter(C.real,C.imag, color = \"red\")\n",
        "plt.xlim(-8, 8)\n",
        "plt.ylim(-8, 8)\n",
        "plt.gca().set_aspect('equal', adjustable='box')\n",
        "plt.grid()\n",
        "plt.draw()"
      ],
      "execution_count": 0,
      "outputs": [
        {
          "output_type": "display_data",
          "data": {
            "image/png": "[encoded data removed]",
            "text/plain": [
              "<Figure size 432x288 with 1 Axes>"
            ]
          },
          "metadata": {
            "tags": []
          }
        }
      ]
    },
    {
      "cell_type": "code",
      "metadata": {
        "id": "IKFTGbO85ByE",
        "colab_type": "code",
        "colab": {}
      },
      "source": [
        "def em(y, x_in, px_in, sigma2_in, iter):\n",
        "\n",
        "    N = y.size\n",
        "    px_out = px_in.reshape((1,px_in.size))\n",
        "    x_out = x_in.reshape((1,x_in.size))\n",
        "    sigma2_out = sigma2_in\n",
        "    \n",
        "    y = y.reshape((N,1))\n",
        "\n",
        "    it = 0\n",
        "    while it < iter:\n",
        "\n",
        "        # E-Step: calculate the posterior distributions Q_X^i(x) for all samples y_i\n",
        "        ###### FILL IN CODE HERE ########\n",
        "        tmp =  scipy.stats.norm.pdf(y,x_out,np.sqrt(sigma2_out)) * px_out\n",
        "        q_xy =  tmp / np.sum(tmp,axis=1).reshape(-1,1)\n",
        "        #################################\n",
        "        \n",
        "        # M-step: maximization of the ELBO over the parameters; the following \n",
        "        # equations are the closed form expressions for the hereby obtained\n",
        "        # stationary points\n",
        "\n",
        "        ###### FILL IN CODE HERE ########\n",
        "        px_out = np.sum(q_xy,axis=0)/N\n",
        "        Delta = np.sum(np.sum(q_xy * x_out * y)) / np.sum(np.sum(q_xy * x_out**2))\n",
        "        x_out = Delta*qam_cstll(16)\n",
        "        sigma2_out = np.sum(np.sum(q_xy * (y-x_out)**2))/N  # use broadcasting here!\n",
        "        #################################\n",
        "        \n",
        "        it = it + 1\n",
        "        if it%50 == 0:\n",
        "            progress = it/iter * 100\n",
        "            print(\"Progress:\",progress)    \n",
        "\n",
        "    ###### FILL IN CODE HERE ########\n",
        "    data_out = {'x':x_out,'sigma2':sigma2_out,'px':px_out,'Delta':Delta}\n",
        "    #\n",
        "    #################################\n",
        "    \n",
        "    return data_out"
      ],
      "execution_count": 0,
      "outputs": []
    },
    {
      "cell_type": "code",
      "metadata": {
        "id": "E3YBUjMdTSuk",
        "colab_type": "code",
        "outputId": "4822b7c2-3224-405b-e813-2e62e1964ee7",
        "colab": {
          "base_uri": "https://localhost:8080/",
          "height": 153
        }
      },
      "source": [
        "p0 = 1/M\n",
        "\n",
        "# y = delta*x + N\n",
        "\n",
        "sigma = 1\n",
        "delta = 1\n",
        "\n",
        "px = np.ones((1,M))/M\n",
        "\n",
        "data_out = em(data, C, px,1+1j,400)\n",
        "# y_distribution ~ N(delta*x,sigma)\n"
      ],
      "execution_count": 0,
      "outputs": [
        {
          "output_type": "stream",
          "text": [
            "Progress: 12.5\n",
            "Progress: 25.0\n",
            "Progress: 37.5\n",
            "Progress: 50.0\n",
            "Progress: 62.5\n",
            "Progress: 75.0\n",
            "Progress: 87.5\n",
            "Progress: 100.0\n"
          ],
          "name": "stdout"
        }
      ]
    },
    {
      "cell_type": "code",
      "metadata": {
        "id": "m6MO-uFTW1-G",
        "colab_type": "code",
        "outputId": "bc78bd48-b98d-41d4-d13e-597100dad7cc",
        "colab": {
          "base_uri": "https://localhost:8080/",
          "height": 337
        }
      },
      "source": [
        "print(\"Sigma2: {:.3f}\".format(data_out['sigma2']))\n",
        "print(\"Delta: {:.3f}\".format(data_out['Delta']))\n",
        "print(\"P_X:\".format(*data_out['px']))\n",
        "print(\"X\".format(*data_out['x']))\n",
        "a = data_out['x']\n",
        "c = data_out['Delta']*data_out['x']\n",
        "\n",
        "plt.scatter(data.real,data.imag)\n",
        "plt.scatter(a.real,a.imag, color =\"red\")\n",
        "plt.scatter(c.real,c.imag, color=\"green\")\n",
        "plt.xlim(-10, 10)\n",
        "plt.ylim(-10, 10)\n",
        "plt.gca().set_aspect('equal', adjustable='box')\n",
        "plt.grid()\n",
        "plt.draw()"
      ],
      "execution_count": 0,
      "outputs": [
        {
          "output_type": "stream",
          "text": [
            "Sigma2: 1.012-1.540j\n",
            "Delta: 3.146-0.743j\n",
            "P_X:\n",
            "X\n"
          ],
          "name": "stdout"
        },
        {
          "output_type": "display_data",
          "data": {
            "image/png": "[encoded data removed]",
            "text/plain": [
              "<Figure size 432x288 with 1 Axes>"
            ]
          },
          "metadata": {
            "tags": []
          }
        }
      ]
    },
    {
      "cell_type": "code",
      "metadata": {
        "id": "wZ7W2aTNZieZ",
        "colab_type": "code",
        "colab": {}
      },
      "source": [
        "\n",
        "q_xy =  tmp / np.sum(tmp,axis=1).reshape(-1,1)\n"
      ],
      "execution_count": 0,
      "outputs": []
    }
  ]
}