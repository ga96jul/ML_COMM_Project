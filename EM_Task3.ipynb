{
  "nbformat": 4,
  "nbformat_minor": 0,
  "metadata": {
    "colab": {
      "name": "EM_Task3",
      "provenance": [],
      "authorship_tag": "ABX9TyMs6vyawpggPVb7p6GuDz10",
      "include_colab_link": true
    },
    "kernelspec": {
      "name": "python3",
      "display_name": "Python 3"
    }
  },
  "cells": [
    {
      "cell_type": "markdown",
      "metadata": {
        "id": "view-in-github",
        "colab_type": "text"
      },
      "source": [
        "<a href=\"https://colab.research.google.com/github/ga96jul/ML_COMM_Project/blob/master/EM_Task3.ipynb\" target=\"_parent\"><img src=\"https://colab.research.google.com/assets/colab-badge.svg\" alt=\"Open In Colab\"/></a>"
      ]
    },
    {
      "cell_type": "code",
      "metadata": {
        "id": "hPYrUqOosNCw",
        "colab_type": "code",
        "colab": {}
      },
      "source": [
        "# load packages and data\n",
        "import numpy as np\n",
        "import scipy.stats\n",
        "import matplotlib.pyplot as plt\n",
        "import pdb;\n",
        "data = np.load('EM_data.npy')\n",
        "\n",
        "N = data.size"
      ],
      "execution_count": 0,
      "outputs": []
    },
    {
      "cell_type": "code",
      "metadata": {
        "id": "cA0nb7_g4b0O",
        "colab_type": "code",
        "colab": {}
      },
      "source": [
        "def ask_cstll(M):\n",
        "    # returns an M-QAM constellation as an\n",
        "    # array of dimension Mx1\n",
        "    \n",
        "    X = np.arange(-M+1,M,2,dtype=int)\n",
        "    \n",
        "    X = X.reshape((1,X.size))\n",
        "    X = X/np.sqrt(np.mean(X**2))\n",
        "    \n",
        "    return X\n",
        "\n",
        "def qam_cstll(M):\n",
        "    # returns an M-QAM constellation as an\n",
        "    # array of dimension Mx1\n",
        "    if M == 128:\n",
        "        M_ask = int(np.sqrt(144))\n",
        "        tmp = ask_cstll(M_ask).reshape((M_ask,1))\n",
        "        tmp = tmp + 1j*tmp.T\n",
        "        X = tmp.flatten()\n",
        "        X = X/np.sqrt(np.mean(np.abs(X)**2))\n",
        "        for i in range(16):\n",
        "            idx = np.argmax(np.abs(X))\n",
        "            X = np.delete(X,idx)\n",
        "\n",
        "    else:\n",
        "        M_ask = int(np.sqrt(M))\n",
        "        tmp = ask_cstll(M_ask).reshape((M_ask,1))\n",
        "   \n",
        "        tmp = tmp + 1j*tmp.T\n",
        "        X = tmp.flatten()\n",
        "        X = X/np.sqrt(np.mean(np.abs(X)**2))\n",
        "    \n",
        "    return X"
      ],
      "execution_count": 0,
      "outputs": []
    },
    {
      "cell_type": "code",
      "metadata": {
        "id": "VMG6Vcevw_Mo",
        "colab_type": "code",
        "colab": {}
      },
      "source": [
        "# initial plot of data\n",
        "\n",
        "plt.scatter(data.real,data.imag)\n",
        "plt.gca().set_aspect('equal', adjustable='box')\n",
        "plt.grid()\n",
        "plt.draw()"
      ],
      "execution_count": 0,
      "outputs": []
    },
    {
      "cell_type": "code",
      "metadata": {
        "id": "SSho_PWpxg_r",
        "colab_type": "code",
        "colab": {}
      },
      "source": [
        "# k-means algorithm with only output values known\n",
        "# we choose a maximum value for the k-QAM\n",
        "# iteratively compute every valid M-QAM constellation to the maximum k\n",
        "# we choose the k that minimizes the uncertainty\n",
        "# constraint of equidistance of each point\n",
        "\n",
        "def k_means(y,k,iter):\n",
        "    # intialize k constellation points according to a M-QAM constellation\n",
        "    C = qam_cstll(k)\n",
        "    # init paras\n",
        "    N = y.size\n",
        "    iter_cnt = 0\n",
        "    C0 = C\n",
        "    K = C0.size\n",
        "    conv_flag = 0\n",
        "    s_real = np.zeros((K,), dtype = float)\n",
        "    s_imag = np.zeros((K,), dtype = float)\n",
        "    temp_C = np.zeros((K,), dtype = complex)  \n",
        "    while (iter_cnt < iter and conv_flag == 0):\n",
        "        # calculate euclidian distance\n",
        "        tmp = np.abs(y.reshape((N,1)) - C.reshape((1,K)))\n",
        "        # assign every data point a label\n",
        "        tmp_idx = np.argmin(tmp,axis=1)\n",
        "        # calculate change of constellation points\n",
        "        for j in range(K):\n",
        "            idx = (tmp_idx == j)\n",
        "            if np.sum(idx) > 0:\n",
        "                temp_C[j] = np.sum(y[idx])/np.sum(idx)\n",
        "                s_real[j] = temp_C[j].real/C[j].real\n",
        "                s_imag[j] = temp_C[j].imag/C[j].imag\n",
        "        # calculate a constant the points spread out to keep equidistant constraint\n",
        "        const_real = np.sum(s_real)/K \n",
        "        const_imag = np.sum(s_imag)/K\n",
        "        constant = (const_imag + const_real)/2\n",
        "        #C = const_real*C.real + 1j * const_imag*C.imag\n",
        "        C = constant * C\n",
        "        #pdb.set_trace()\n",
        "        iter_cnt = iter_cnt + 1\n",
        "    data_out = {'C':C,'N_real':const_real,'N_imag':const_imag}\n",
        "    return data_out\n",
        "\n",
        "\n"
      ],
      "execution_count": 0,
      "outputs": []
    },
    {
      "cell_type": "code",
      "metadata": {
        "id": "1op-2leg6IdH",
        "colab_type": "code",
        "colab": {
          "base_uri": "https://localhost:8080/",
          "height": 265
        },
        "outputId": "88f78f01-f9d9-4771-be7d-f70cab21b446"
      },
      "source": [
        "K = 16\n",
        "\n",
        "data_out = k_means(data,K,1000)\n",
        "C_1 = data_out['C']\n",
        "pC = qam_cstll(K)\n",
        "plt.scatter(data.real,data.imag)\n",
        "plt.scatter(pC.real,pC.imag)\n",
        "plt.scatter(C_1.real,C_1.imag)\n",
        "plt.gca().set_aspect('equal', adjustable='box')\n",
        "plt.grid()\n",
        "plt.draw()\n"
      ],
      "execution_count": 206,
      "outputs": [
        {
          "output_type": "display_data",
          "data": {
            "image/png": "[encoded data removed]",
            "text/plain": [
              "<Figure size 432x288 with 1 Axes>"
            ]
          },
          "metadata": {
            "tags": []
          }
        }
      ]
    },
    {
      "cell_type": "code",
      "metadata": {
        "id": "jYwL8EplUv7O",
        "colab_type": "code",
        "colab": {}
      },
      "source": [
        "# EM Algorithm\n",
        "def EM(y,C,delta,noise,px,M,iter):\n",
        "\n",
        "    N = y.size\n",
        "    K = C.size\n",
        "    px = px.reshape((1,px.size))\n",
        "    C = C.reshape((1,C.size))\n",
        "    C_imag = C.imag\n",
        "    C_real = C.real\n",
        "    \n",
        "    y = y.reshape((N,1))\n",
        "    y_real = y.real\n",
        "    y_imag = y.imag\n",
        "\n",
        "    noise_real = noise.real\n",
        "    noise_imag = noise.imag\n",
        "\n",
        "    delta_real = delta.real\n",
        "    delta_imag = delta.imag\n",
        "\n",
        "    it = 0\n",
        "    #const = qam_cstll(K);\n",
        "    const = C\n",
        "    const = const.reshape((1,const.size))\n",
        "    while it < iter:\n",
        "        #calculate p(y|x)\n",
        "        #pdb.set_trace()\n",
        "        tmp_real =  (1/(np.pi*noise_real))*np.exp(-((y_real-C_real)**2)/noise_real) * px;\n",
        "        q_xy_real =  tmp_real / np.sum(tmp_real,axis=1).reshape(-1,1)\n",
        "        tmp_imag =  (1/(np.pi*noise_imag))*np.exp(-((y_imag-C_imag)**2)/noise_imag) * px;\n",
        "        q_xy_imag =  tmp_imag / np.sum(tmp_imag,axis=1).reshape(-1,1)       \n",
        "        \n",
        "        px = (np.sum(q_xy_real,axis=0)+np.sum(q_xy_imag,axis=0))/(2*N)\n",
        "        delta_real = np.sum(np.sum(q_xy_real * C_real * y_real)) / np.sum(np.sum(q_xy_real * C_real**2))\n",
        "        delta_imag = np.sum(np.sum(q_xy_imag * C_imag * y_imag)) / np.sum(np.sum(q_xy_imag * C_imag**2))\n",
        "        delta = (delta_real + delta_imag)/2\n",
        "        C = delta*const\n",
        "        C_real = C.real\n",
        "        C_imag = C.imag\n",
        "        #pdb.set_trace()\n",
        "        noise_real = np.sum(np.sum(q_xy_real * (y_real-C_real)**2))/N\n",
        "        noise_imag = np.sum(np.sum(q_xy_imag * (y_imag-C_imag)**2))/N\n",
        "        noise = noise_real + 1j*noise_imag\n",
        "        it = it + 1\n",
        "\n",
        "    ###### FILL IN CODE HERE ########\n",
        "    data_out = {'C':C,'sigma2':noise,'px':px,'Delta':delta}\n",
        "    #\n",
        "    #################################\n",
        "    \n",
        "    return data_out\n",
        "\n"
      ],
      "execution_count": 0,
      "outputs": []
    },
    {
      "cell_type": "code",
      "metadata": {
        "id": "y2RfTONKHM5O",
        "colab_type": "code",
        "colab": {}
      },
      "source": [
        "# init initial parameters for EM\n",
        "delta = C_1[0].real/pC.real[0]\n",
        "noise = data_out['N_real'] + 1j*data_out['N_imag']\n",
        "px = np.ones(K) * 1/K\n",
        "\n",
        "#px.reshape(1,K)\n",
        "data_out_2 = EM(data,C_1,delta,noise,px,K,500)\n",
        "\n",
        "\n",
        "\n",
        "\n",
        "\n",
        "\n"
      ],
      "execution_count": 0,
      "outputs": []
    },
    {
      "cell_type": "code",
      "metadata": {
        "id": "daVBgsoFzh4S",
        "colab_type": "code",
        "colab": {
          "base_uri": "https://localhost:8080/",
          "height": 34
        },
        "outputId": "fb59103e-346a-47e7-cb76-0c4aa93cf44e"
      },
      "source": [
        "np.sum(data_out_2['px'])\n",
        "data_out_2['sigma2']"
      ],
      "execution_count": 208,
      "outputs": [
        {
          "output_type": "execute_result",
          "data": {
            "text/plain": [
              "(1.0084039532308928+1.0277301037606494j)"
            ]
          },
          "metadata": {
            "tags": []
          },
          "execution_count": 208
        }
      ]
    },
    {
      "cell_type": "code",
      "metadata": {
        "id": "EDlY_tEVX-_P",
        "colab_type": "code",
        "colab": {
          "base_uri": "https://localhost:8080/",
          "height": 269
        },
        "outputId": "bee63e7e-aaad-4256-fe74-51b355b45d34"
      },
      "source": [
        "#data_out = k_means(data,36,1000)\n",
        "C_2 = data_out_2['C']\n",
        "pC = qam_cstll(K)\n",
        "plt.scatter(data.real,data.imag)\n",
        "#plt.scatter(pC.real,pC.imag)\n",
        "plt.scatter(C_2.real,C_2.imag)\n",
        "plt.gca().set_aspect('equal', adjustable='box')\n",
        "plt.xlim(-10, 10)\n",
        "plt.ylim(-10, 10)\n",
        "plt.grid()\n",
        "plt.draw()"
      ],
      "execution_count": 212,
      "outputs": [
        {
          "output_type": "display_data",
          "data": {
            "image/png": "[encoded data removed]",
            "text/plain": [
              "<Figure size 432x288 with 1 Axes>"
            ]
          },
          "metadata": {
            "tags": []
          }
        }
      ]
    },
    {
      "cell_type": "code",
      "metadata": {
        "id": "SO7fSBExsdyy",
        "colab_type": "code",
        "colab": {}
      },
      "source": [
        "#initiate this channel\n",
        "N = 10000\n",
        "y = np.zeros((N,), dtype=complex)\n",
        "px = data_out_2['px']\n",
        "delta = data_out_2['Delta']\n",
        "sigma = data_out_2['sigma2']\n",
        "numb = np.zeros((K,), dtype=int)\n",
        "sigma_real = sigma.real\n",
        "sigma_imag = sigma.imag\n",
        "noise = sigma_real * np.random.randn(N) + 1j*sigma_imag * np.random.randn(N)\n",
        "X = np.zeros((N,), dtype=complex)\n",
        "\n",
        "# initate X\n",
        "#C_end = qam_cstll(K)\n",
        "C_end = C_1\n",
        "cnt_vec = 0\n",
        "for iik in range(K):\n",
        "    numb[iik] = np.round(px[iik]*10000)\n",
        "    for iip in range(numb[iik]):\n",
        "        X[cnt_vec] = C_end[iik]    \n",
        "        cnt_vec = cnt_vec + 1\n",
        "\n",
        "\n"
      ],
      "execution_count": 0,
      "outputs": []
    },
    {
      "cell_type": "code",
      "metadata": {
        "id": "qIY78rgzv7rU",
        "colab_type": "code",
        "colab": {
          "base_uri": "https://localhost:8080/",
          "height": 303
        },
        "outputId": "8364161d-a763-400c-eebe-78f08b53a556"
      },
      "source": [
        "y = delta*X + noise\n",
        "\n",
        "plt.scatter(y.real,y.imag)\n",
        "plt.scatter(delta*X.real,delta*X.imag)\n",
        "plt.gca().set_aspect('equal', adjustable='box')\n",
        "plt.xlim(-10, 10)\n",
        "plt.ylim(-10, 10)\n",
        "plt.grid()\n",
        "plt.draw()\n",
        "numb"
      ],
      "execution_count": 213,
      "outputs": [
        {
          "output_type": "execute_result",
          "data": {
            "text/plain": [
              "array([ 298,  568,  558,  303,  599, 1042, 1027,  607,  585, 1021, 1006,\n",
              "        593,  310,  588,  579,  316])"
            ]
          },
          "metadata": {
            "tags": []
          },
          "execution_count": 213
        },
        {
          "output_type": "display_data",
          "data": {
            "image/png": "[encoded data removed]",
            "text/plain": [
              "<Figure size 432x288 with 1 Axes>"
            ]
          },
          "metadata": {
            "tags": []
          }
        }
      ]
    }
  ]
}